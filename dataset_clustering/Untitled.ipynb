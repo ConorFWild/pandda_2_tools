{
 "cells": [
  {
   "cell_type": "code",
   "execution_count": 9,
   "metadata": {},
   "outputs": [],
   "source": [
    "from pathlib import Path\n",
    "import gemmi\n",
    "import numpy as np"
   ]
  },
  {
   "cell_type": "code",
   "execution_count": 10,
   "metadata": {},
   "outputs": [],
   "source": [
    "mp = gemmi.Ccp4Map()\n"
   ]
  },
  {
   "cell_type": "code",
   "execution_count": 13,
   "metadata": {},
   "outputs": [],
   "source": [
    "output_path = Path(\"/dls/labxchem/data/2017/lb18145-17/processing/analysis/TMP_dataset_clustering/lb13385-63/copied/XX02KALRNA-x0179_BAK/\")\n",
    "mtz_path = Path(\"/dls/labxchem/data/2017/lb18145-17/processing/analysis/TMP_dataset_clustering/lb13385-63/copied/XX02KALRNA-x0179_BAK/XX02KALRNA-x0179_BAK.mtz\")\n",
    "dtag = \"XX02KALRNA-x0179_BAK\""
   ]
  },
  {
   "cell_type": "code",
   "execution_count": 32,
   "metadata": {},
   "outputs": [
    {
     "name": "stdout",
     "output_type": "stream",
     "text": [
      "<gemmi.Ccp4Map with grid (60, 60, 360) in SG #179>\n",
      "['__class__', '__delattr__', '__dir__', '__doc__', '__eq__', '__format__', '__ge__', '__getattribute__', '__gt__', '__hash__', '__init__', '__init_subclass__', '__le__', '__lt__', '__module__', '__ne__', '__new__', '__reduce__', '__reduce_ex__', '__repr__', '__setattr__', '__sizeof__', '__str__', '__subclasshook__', 'grid', 'header_float', 'header_i32', 'header_str', 'set_header_float', 'set_header_i32', 'set_header_str', 'setup', 'update_ccp4_header', 'write_ccp4_map']\n"
     ]
    }
   ],
   "source": [
    "mtz = gemmi.read_mtz_file(str(mtz_path))\n",
    "\n",
    "all_data = np.array(mtz, copy=False)\n",
    "mtz.set_data(all_data[mtz.make_d_array() >= 3.0])\n",
    "\n",
    "grid = mtz.transform_f_phi_to_map(\"FWT\",\n",
    "                                  \"PHWT\",\n",
    "                                  sample_rate=3,\n",
    "                                          )\n",
    "\n",
    "mp = gemmi.Ccp4Map()\n",
    "mp.setup()\n",
    "mp.grid = grid\n",
    "mp.setup()\n",
    "mp.update_ccp4_header(1, True)\n",
    "print(mp)\n",
    "print(dir(mp))\n",
    "# print(mp.header_i32())\n",
    "# print(mp.header_i32)"
   ]
  },
  {
   "cell_type": "code",
   "execution_count": 33,
   "metadata": {},
   "outputs": [],
   "source": [
    "mp.write_ccp4_map(str(output_path / \"{}.ccp4\".format(dtag)))"
   ]
  },
  {
   "cell_type": "code",
   "execution_count": null,
   "metadata": {},
   "outputs": [],
   "source": []
  }
 ],
 "metadata": {
  "kernelspec": {
   "display_name": "Python 3",
   "language": "python",
   "name": "python3"
  },
  "language_info": {
   "codemirror_mode": {
    "name": "ipython",
    "version": 3
   },
   "file_extension": ".py",
   "mimetype": "text/x-python",
   "name": "python",
   "nbconvert_exporter": "python",
   "pygments_lexer": "ipython3",
   "version": "3.7.3"
  }
 },
 "nbformat": 4,
 "nbformat_minor": 2
}
